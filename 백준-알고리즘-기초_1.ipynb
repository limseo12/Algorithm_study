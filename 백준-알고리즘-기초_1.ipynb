{
  "nbformat": 4,
  "nbformat_minor": 0,
  "metadata": {
    "colab": {
      "private_outputs": true,
      "provenance": [],
      "authorship_tag": "ABX9TyMDKvD2BqpVwkSbQiQ+7wax",
      "include_colab_link": true
    },
    "kernelspec": {
      "name": "python3",
      "display_name": "Python 3"
    },
    "language_info": {
      "name": "python"
    }
  },
  "cells": [
    {
      "cell_type": "markdown",
      "metadata": {
        "id": "view-in-github",
        "colab_type": "text"
      },
      "source": [
        "<a href=\"https://colab.research.google.com/github/limseo12/Algorithm_study/blob/main/%EB%B0%B1%EC%A4%80-%EC%95%8C%EA%B3%A0%EB%A6%AC%EC%A6%98-%EA%B8%B0%EC%B4%88_1.ipynb\" target=\"_parent\"><img src=\"https://colab.research.google.com/assets/colab-badge.svg\" alt=\"Open In Colab\"/></a>"
      ]
    },
    {
      "cell_type": "markdown",
      "source": [
        "# 200 자료구조1"
      ],
      "metadata": {
        "id": "GiVPOyYnVHG9"
      }
    },
    {
      "cell_type": "code",
      "execution_count": null,
      "metadata": {
        "id": "Vy3ZEUspUzY5"
      },
      "outputs": [],
      "source": [
        "#10828 스택\n",
        "import sys\n",
        "\n",
        "n = int(sys.stdin.readline())   #colab에서는 불가능\n",
        "\n",
        "stack = []\n",
        "for i in range(n):\n",
        "  command = sys.stdin.readline().split()\n",
        "\n",
        "  if command[0] == 'push':\n",
        "    stack.append(command[1])\n",
        "  elif command[0] == 'pop':\n",
        "    if len(stack)==0:\n",
        "      print(-1)\n",
        "    else:\n",
        "      print(stack.pop())\n",
        "  elif command[0] == 'size':\n",
        "    print(len(stack))\n",
        "  elif command[0] == 'empty':\n",
        "    if len(stack) == 0:\n",
        "      print(1)\n",
        "    else:\n",
        "      print(0)\n",
        "  elif command[0] == 'top':\n",
        "    if len(stack) == 0:\n",
        "      print(-1)\n",
        "    else:\n",
        "      print(stack[-1])"
      ]
    },
    {
      "cell_type": "code",
      "source": [
        "#9093 단어 뒤집기\n",
        "N = int(input())"
      ],
      "metadata": {
        "id": "cZ0UlaGCfecZ"
      },
      "execution_count": null,
      "outputs": []
    },
    {
      "cell_type": "code",
      "source": [
        "#괄호"
      ],
      "metadata": {
        "id": "XImIAwnX9ls-"
      },
      "execution_count": null,
      "outputs": []
    },
    {
      "cell_type": "code",
      "source": [
        "#스택 수열"
      ],
      "metadata": {
        "id": "-_vkyz3T9m1H"
      },
      "execution_count": null,
      "outputs": []
    },
    {
      "cell_type": "code",
      "source": [
        "#에디터"
      ],
      "metadata": {
        "id": "0f2q71qm9n7C"
      },
      "execution_count": null,
      "outputs": []
    },
    {
      "cell_type": "code",
      "source": [
        "#큐"
      ],
      "metadata": {
        "id": "B9KQnpNg9ozU"
      },
      "execution_count": null,
      "outputs": []
    },
    {
      "cell_type": "code",
      "source": [
        "#조세퍼스 문제"
      ],
      "metadata": {
        "id": "azu9wLIa9pp_"
      },
      "execution_count": null,
      "outputs": []
    },
    {
      "cell_type": "code",
      "source": [
        "#덱"
      ],
      "metadata": {
        "id": "rkLNHCbV9rEV"
      },
      "execution_count": null,
      "outputs": []
    },
    {
      "cell_type": "markdown",
      "source": [
        "# 201 - 자료구조 1 (연습)"
      ],
      "metadata": {
        "id": "FVYAHspYVTnR"
      }
    },
    {
      "cell_type": "code",
      "source": [
        "#단어 뒤집기2"
      ],
      "metadata": {
        "id": "CF0EKirT9uzO"
      },
      "execution_count": null,
      "outputs": []
    },
    {
      "cell_type": "code",
      "source": [
        "#쇠막대기"
      ],
      "metadata": {
        "id": "hSxWifJK9wMW"
      },
      "execution_count": null,
      "outputs": []
    },
    {
      "cell_type": "code",
      "source": [
        "#오큰수"
      ],
      "metadata": {
        "id": "MqsKsnO_9xZR"
      },
      "execution_count": null,
      "outputs": []
    },
    {
      "cell_type": "code",
      "source": [
        "#오등큰수"
      ],
      "metadata": {
        "id": "I734r_Hm9yvl"
      },
      "execution_count": null,
      "outputs": []
    },
    {
      "cell_type": "markdown",
      "source": [
        "#203 - 자료구조 1 (참고)"
      ],
      "metadata": {
        "id": "BchVdcz-91xg"
      }
    },
    {
      "cell_type": "code",
      "source": [
        "#후위 표기식2"
      ],
      "metadata": {
        "id": "hxE5QcWv95X9"
      },
      "execution_count": null,
      "outputs": []
    },
    {
      "cell_type": "code",
      "source": [],
      "metadata": {
        "id": "ZC-kj9CzQc59"
      },
      "execution_count": null,
      "outputs": []
    },
    {
      "cell_type": "code",
      "source": [],
      "metadata": {
        "id": "yMNLxF8dQdDb"
      },
      "execution_count": null,
      "outputs": []
    }
  ]
}