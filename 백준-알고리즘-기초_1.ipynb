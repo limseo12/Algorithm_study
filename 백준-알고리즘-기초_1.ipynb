{
  "nbformat": 4,
  "nbformat_minor": 0,
  "metadata": {
    "colab": {
      "private_outputs": true,
      "provenance": [],
      "authorship_tag": "ABX9TyMNT5mGrWKLYwVzowJG9jCq",
      "include_colab_link": true
    },
    "kernelspec": {
      "name": "python3",
      "display_name": "Python 3"
    },
    "language_info": {
      "name": "python"
    }
  },
  "cells": [
    {
      "cell_type": "markdown",
      "metadata": {
        "id": "view-in-github",
        "colab_type": "text"
      },
      "source": [
        "<a href=\"https://colab.research.google.com/github/limseo12/Algorithm_study/blob/main/%EB%B0%B1%EC%A4%80-%EC%95%8C%EA%B3%A0%EB%A6%AC%EC%A6%98-%EA%B8%B0%EC%B4%88_1.ipynb\" target=\"_parent\"><img src=\"https://colab.research.google.com/assets/colab-badge.svg\" alt=\"Open In Colab\"/></a>"
      ]
    },
    {
      "cell_type": "markdown",
      "source": [
        "# 200 자료구조1"
      ],
      "metadata": {
        "id": "GiVPOyYnVHG9"
      }
    },
    {
      "cell_type": "code",
      "execution_count": null,
      "metadata": {
        "id": "Vy3ZEUspUzY5"
      },
      "outputs": [],
      "source": [
        "#10828 스택\n",
        "#파이썬\n",
        "import sys\n",
        "\n",
        "n = int(sys.stdin.readline())   #colab에서는 불가능\n",
        "\n",
        "stack = []\n",
        "for i in range(n):\n",
        "  command = sys.stdin.readline().split()\n",
        "\n",
        "  if command[0] == 'push':\n",
        "    stack.append(command[1])\n",
        "  elif command[0] == 'pop':\n",
        "    if len(stack)==0:\n",
        "      print(-1)\n",
        "    else:\n",
        "      print(stack.pop())\n",
        "  elif command[0] == 'size':\n",
        "    print(len(stack))\n",
        "  elif command[0] == 'empty':\n",
        "    if len(stack) == 0:\n",
        "      print(1)\n",
        "    else:\n",
        "      print(0)\n",
        "  elif command[0] == 'top':\n",
        "    if len(stack) == 0:\n",
        "      print(-1)\n",
        "    else:\n",
        "      print(stack[-1])"
      ]
    },
    {
      "cell_type": "code",
      "source": [
        "#10828스택\n",
        "#C++\n",
        "\n",
        "# include <iostream>\n",
        "# include <stack>\n",
        "# include <string>\n",
        "\n",
        "using namespace std;\n",
        "\n",
        "int main() {\n",
        "\tstack<int> S;\n",
        "    int n;\n",
        "\n",
        "    cin >> n;\n",
        "\n",
        "    for (int i = 0; i < n; i++) {\n",
        "    \tstring str;\n",
        "        cin >> str;\n",
        "        if (str == \"push\") {\n",
        "\t\t\tint x;\n",
        "            cin >> x;\n",
        "            S.push(x);\n",
        "        }\n",
        "        else if (str == \"top\") {\n",
        "        \tif (S.empty())cout << \"-1\" end|;\n",
        "            else cout << S.top() << end|;\n",
        "        }\n",
        "        else if (str == \"pop\") {\n",
        "        \tif (S.empty())cout << \"-1\" << end|;\n",
        "            else {\n",
        "            \tcout << S.top() << end|;\n",
        "                S.pop()\n",
        "            }\n",
        "        }\n",
        "        else if (str == \"empty\") {\n",
        "        \tcout << S.empty() << end|;\n",
        "        }\n",
        "        else {\n",
        "        \tcout << S.size() << end|;\n",
        "        }\n",
        "    }\n",
        "    return 0;\n",
        "}"
      ],
      "metadata": {
        "id": "wmb5c7183tNk"
      },
      "execution_count": null,
      "outputs": []
    },
    {
      "cell_type": "code",
      "source": [
        "#9093 단어 뒤집기\n",
        "#파이썬\n",
        "import sys\n",
        "N = int(input())\n",
        "\n",
        "for _ in range(N):\n",
        "    str = sys.stdin.readline().rstrip()\n",
        "    words = list(str.split())\n",
        "    reverse_words = []\n",
        "\n",
        "    for word in words:\n",
        "        reverse_words.append(word[::-1])\n",
        "\n",
        "    answer = \" \".join(reverse_words)\n",
        "    print(answer)"
      ],
      "metadata": {
        "id": "cZ0UlaGCfecZ"
      },
      "execution_count": null,
      "outputs": []
    },
    {
      "cell_type": "code",
      "source": [
        "#9093 단어 뒤집기\n",
        "#C++\n",
        "\n",
        "# include<iostream>\n",
        "# include<string>\n",
        "# include<stack>\n",
        "\n",
        "using namespace std;\n",
        "\n",
        "int main()\n",
        "{\n",
        "    int T;        //테스트 케이스\n",
        "    string sentence;    //문장 (길이 최대 1000) 단어길이: 20\n",
        "    stack <char> st;    //단어를 뒤집기 위한 스택\n",
        "\n",
        "    cin >> T;\n",
        "    cin.ignore();    //버퍼 비우기\n",
        "    while (T--)\n",
        "    {\n",
        "        getline(cin, sentence);\n",
        "        sentence += ' ';\n",
        "\n",
        "        for (int i = 0; i < sentence.size(); i++)\n",
        "        {\n",
        "            if (sentence[i] == ' ')\n",
        "            {\n",
        "                while (!st.empty())\n",
        "                {\n",
        "                    cout << st.top();\n",
        "                    st.pop();\n",
        "                }cout << ' ';\n",
        "            }\n",
        "            else\n",
        "                st.push(sentence[i]);\n",
        "        }cout << \"\\n\";\n",
        "    }\n",
        "\n",
        "}\n"
      ],
      "metadata": {
        "id": "5NrklnLR4fK4"
      },
      "execution_count": null,
      "outputs": []
    },
    {
      "cell_type": "code",
      "source": [
        "#괄호 9012 파이썬1\n",
        "n = int(input())\n",
        "for i in range(n):\n",
        "  vps = list(input())\n",
        "  if vps[-1] == '(':\n",
        "    print('NO')\n",
        "    continue\n",
        "  I = []\n",
        "  r = []\n",
        "  for j in range(len(vps)):\n",
        "    if vps[j] == \"(\":\n",
        "      I.append(vos[j])\n",
        "    elif vps[j] == \")\":\n",
        "      r.append(vps[j])\n",
        "      if len(I) != 0:\n",
        "        r.pop()\n",
        "        I.pop()\n",
        "      else:\n",
        "          break\n",
        "    if len(I) == 0 and len(r) == 0:\n",
        "      print(\"yes\")\n",
        "    else:\n",
        "      print(\"NO\")\n"
      ],
      "metadata": {
        "id": "XImIAwnX9ls-"
      },
      "execution_count": null,
      "outputs": []
    },
    {
      "cell_type": "code",
      "source": [
        "#괄호 9012 파이썬2\n",
        "import sys\n",
        "input = sys.stdin.readline\n",
        "\n",
        "t = int(input())\n",
        "\n",
        "def check(vps):\n",
        "  cnt = 0\n",
        "  while vps:\n",
        "    v = vps.pop()\n",
        "    if v == ')':\n",
        "      cnt += 1\n",
        "    else:\n",
        "      if cnt <= 0:\n",
        "        return False\n",
        "      cnt -= 1\n",
        "  if cnt != 0:\n",
        "    return False\n",
        "  return True\n",
        "\n",
        "for _ in range(t):\n",
        "  vps = list(input().rstrip())\n",
        "  if check(vps):\n",
        "    print('YES')\n",
        "  else:\n",
        "    print('NO')"
      ],
      "metadata": {
        "id": "VXVEob3Y22Tz"
      },
      "execution_count": null,
      "outputs": []
    },
    {
      "cell_type": "code",
      "source": [
        "#괄호 9012 C++\n",
        "#include<iostream>\n",
        "#include<string>\n",
        "#include<stack>\n",
        "using namespace std;\n",
        "\n",
        "string Check(string input) {\n",
        "      int len = (int)input.length();\n",
        "\n",
        "      stack<char>s;\n",
        "\n",
        "      # input 문자열의 문자 하나씩 : (이면 push하고 )이면 pop해서 vps인것들 파악\n",
        "      for (int i = 0; i < len; i++)\n",
        "      {\n",
        "          if (input[i] == '(')\n",
        "          {\n",
        "              s.push(input[i]);\n",
        "          }\n",
        "          else if (input[i] == ')')\n",
        "          {\n",
        "              if (!s.empty())\n",
        "              {\n",
        "                  s.pop();\n",
        "              }\n",
        "              else\n",
        "              {\n",
        "                  reeturn \"NO\";\n",
        "              }\n",
        "          }\n",
        "      }\n",
        "      if (s.empty())\n",
        "      {\n",
        "          return \"YES\";\n",
        "      }\n",
        "      else\n",
        "      {\n",
        "          return \"NO\";\n",
        "      }\n",
        "}\n",
        "\n",
        "int main() {\n",
        "    #테스트 케이스 개수\n",
        "    int T;\n",
        "    cin >> T;\n",
        "    cin.ignore();\n",
        "\n",
        "    while (T--)\n",
        "    {\n",
        "        string input;\n",
        "        cin >> input;\n",
        "\n",
        "        cout << check(input) << '\\n';\n",
        "    }\n",
        "    return 0;\n",
        "}\n",
        "#스택 초기화 필요 X, main 함수에 돌아오면서 사라진다."
      ],
      "metadata": {
        "id": "KRiIZdOD27Kf"
      },
      "execution_count": null,
      "outputs": []
    },
    {
      "cell_type": "code",
      "source": [
        "#스택 수열 1874 파이썬\n",
        "\n",
        "def Stack_Arr(num)\n",
        "  # 1부터 시작한다.\n",
        "  i = 1\n",
        "  #push와 pop 연산을 할 리스트\n",
        "  arr = []\n",
        "  #정답을 담을 리스트\n",
        "  answer = []\n",
        "  # 사용자의 입력을 받을 리스트\n",
        "  input_list = [int(input()) for_in range(num)]\n",
        "\n",
        "  #입력된 원소 하나씩 가져옴\n",
        "  for temp in input_list:\n",
        "    # 입력된 원소가 나올때까지 arr에 push, answer 리스트에 '+' 추가\n",
        "    while i <= temp:\n",
        "      arr.append(i)\n",
        "      answer.append('+')\n",
        "      i += 1\n",
        "\n",
        "    #만약 마지막으로 입력된 원소가 입력값과 같다면 pop연산, answer리스트에 '-' 출력\n",
        "    if temp == arr[-1]:\n",
        "      arr.pop()\n",
        "      answer.append('-')\n",
        "\n",
        "    #만약 마지막으로 입력된 원소가 입력값과 다르다면 'NO' 반환\n",
        "    else:\n",
        "      return ['NO']\n",
        "  #결과 반환\n",
        "  return answer\n",
        "\n",
        "# n 입력\n",
        "num = int(input())\n",
        "#함수 실행\n",
        "answer = Stack_Arr(num)\n",
        "\n",
        "for ch in answer:\n",
        "  print(ch)"
      ],
      "metadata": {
        "id": "-_vkyz3T9m1H"
      },
      "execution_count": null,
      "outputs": []
    },
    {
      "cell_type": "code",
      "source": [
        "#스택 수열 1874 C++\n",
        "\n",
        "#include <iostream>\n",
        "#include <algorithm>\n",
        "#include <stack>\n",
        "#include <vector>\n",
        "\n",
        "using namespace std;\n",
        "stack<int> st;\n",
        "vector<char> v;\n",
        "int main() {\n",
        "    los_base::sync_with_stdio(false), cin.tie(NULL);\n",
        "    int n,cnt=1;\n",
        "\n",
        "    cin >> n;\n",
        "    for (int i = 0; i < n; i++) {\n",
        "          int x;\n",
        "          cin >> x;\n",
        "          while (cnt <= x) {\n",
        "              v.push_back('+');\n",
        "              st.push(cnt);\n",
        "              cnt++;\n",
        "          }\n",
        "\n",
        "          if(x == st.top()) {\n",
        "                  st.pop();\n",
        "                  v.push_back('-');\n",
        "          }\n",
        "          else {\n",
        "                  cout << \"NO\";\n",
        "                  return 0;\n",
        "          }\n",
        "    }\n",
        "    for (int i = 0; i < v.size(); i++) {\n",
        "              cout << v[i] << \"\\n\";\n",
        "    }\n",
        "}"
      ],
      "metadata": {
        "id": "tR0L-yPY2TlL"
      },
      "execution_count": null,
      "outputs": []
    },
    {
      "cell_type": "code",
      "source": [
        "#에디터 1406 파이썬 #1\n",
        "string_list = list(input())\n",
        "cursor = len(string_list)\n",
        "\n",
        "for _ in range(int(input())):\n",
        "    command = list(input().split())\n",
        "    if command[0] == 'P':\n",
        "        string_list.insert(cursor, command[1])\n",
        "        cursor += 1\n",
        "\n",
        "    elif command[0] == 'L':\n",
        "        if cursor > 0:\n",
        "            cursor -= 1\n",
        "\n",
        "    elif command[0] =='D':\n",
        "        if cursor < len(string_list):\n",
        "            cursor += 1\n",
        "\n",
        "    else:\n",
        "        if cursor > 0:\n",
        "            string_list.remove(string_list[cursor-1])\n",
        "\n",
        "print(''.join(string_list))"
      ],
      "metadata": {
        "id": "0f2q71qm9n7C"
      },
      "execution_count": null,
      "outputs": []
    },
    {
      "cell_type": "code",
      "source": [
        "#에디터 1406 파이썬 #2 더 좋은방법\n",
        "import sys\n",
        "\n",
        "st1 = list(sys.stdin.readline().rstrip())\n",
        "st2 = []\n",
        "\n",
        "for _ in range(int(sys.stdin.readline())):\n",
        "    command = list(sys.stdin.readline().split())\n",
        "    if command[0] == 'L':\n",
        "\t  \tif st1:\n",
        "        \tst2.append(st1.pop())\n",
        "\n",
        "  \telif command[0] == 'D':\n",
        "    \t  if st2:\n",
        "        \tst1.append(st2.pop())\n",
        "\n",
        "  \telif command[0] == 'B':\n",
        "     \tif st1:\n",
        "        \tst1.pop()\n",
        "\n",
        "\t  else:\n",
        "       \tst1.append(command[1])\n",
        "\n",
        "st1.extend(reversed(st2))\n",
        "print(''.join(st1))"
      ],
      "metadata": {
        "id": "OAyg4qyfD_ci"
      },
      "execution_count": null,
      "outputs": []
    },
    {
      "cell_type": "code",
      "source": [
        "#에디터 1406 c++ #스택이용\n",
        "#include <iostream>\n",
        "#include <string>\n",
        "#include <stack>\n",
        "using namespace std;\n",
        "\n",
        "int main()\n",
        "{\n",
        "    int M;\n",
        "    string s = \"\";\n",
        "    stack<char> left;\n",
        "    stack<char> right;\n",
        "\n",
        "    cin >> s;\n",
        "\n",
        "    for (int i = 0; i < (int)s.size(); i++)\n",
        "    {\n",
        "        left.push(s[i]);\n",
        "    }\n",
        "\n",
        "    cin >> M;\n",
        "\n",
        "    for (int i = 0; i < M; i++)\n",
        "    {\n",
        "        char cmd, c;\n",
        "        cin >> cmd;\n",
        "\n",
        "        if (cmd == 'L')\n",
        "        {\n",
        "            if (!left.empty())\n",
        "            {\n",
        "                right.push(left.top());\n",
        "                left.pop();\n",
        "            }\n",
        "        }\n",
        "        else if (cmd == 'D')\n",
        "        {\n",
        "            if (!right.empty())\n",
        "            {\n",
        "                left.push(right.top());\n",
        "                right.pop();\n",
        "            }\n",
        "        }\n",
        "        else if (cmd == 'B')\n",
        "        {\n",
        "            if (!left.empty())\n",
        "            {\n",
        "                left.pop();\n",
        "            }\n",
        "        }\n",
        "        else if (cmd == 'P')\n",
        "        {\n",
        "            cin >> c;\n",
        "            left.push(c);\n",
        "        }\n",
        "    }\n",
        "\n",
        "    // left에 있는 원소들 모두 right로 이동!\n",
        "    while (!left.empty())\n",
        "    {\n",
        "        right.push(left.top());\n",
        "        left.pop();\n",
        "    }\n",
        "\n",
        "    // right에 있는 원소 출력\n",
        "    while (!right.empty())\n",
        "    {\n",
        "        cout << right.top();\n",
        "        right.pop();\n",
        "    }\n",
        "}"
      ],
      "metadata": {
        "id": "hpQwxD1S7HFY"
      },
      "execution_count": null,
      "outputs": []
    },
    {
      "cell_type": "code",
      "source": [
        "#에디터 1406 c++ #리스트 이용\n",
        "#include <iostream>\n",
        "#include <string>\n",
        "#include <list>\n",
        "using namespace std;\n",
        "\n",
        "int main()\n",
        "{\n",
        "    int M;\n",
        "    string s = \"\";\n",
        "    string ans = \"\";\n",
        "\n",
        "    cin >> s;\n",
        "    // 연결리스트에 원소 할당\n",
        "    list<char> li(s.begin(), s.end());\n",
        "\n",
        "    // 커서위치를 입력된 문자 제일 끝에 위치\n",
        "    auto cursor = li.end();\n",
        "    cin >> M;\n",
        "\n",
        "    for (int i = 0; i < M; i++)\n",
        "    {\n",
        "        char cmd, c;\n",
        "        cin >> cmd;\n",
        "\n",
        "        if (cmd == 'L')\n",
        "        {\n",
        "            if (cursor != li.begin())\n",
        "                cursor--;\n",
        "        }\n",
        "        else if (cmd == 'D')\n",
        "        {\n",
        "            if (cursor != li.end())\n",
        "                cursor++;\n",
        "        }\n",
        "        else if (cmd == 'B')\n",
        "        {\n",
        "            if (cursor != li.begin()) // 맨 왼쪽이 아니라면\n",
        "            {\n",
        "                cursor--;\n",
        "                cursor = li.erase(cursor); // 삭제\n",
        "            }\n",
        "        }\n",
        "        else if (cmd == 'P')\n",
        "        {\n",
        "            cin >> c;\n",
        "            li.insert(cursor, c); // 문자 c 삽입\n",
        "        }\n",
        "    }\n",
        "\n",
        "    // 연결리스트 출력\n",
        "    for (cursor = li.begin(); cursor != li.end(); cursor++)\n",
        "        cout << *cursor;\n",
        "}"
      ],
      "metadata": {
        "id": "zS79_jLyEcNN"
      },
      "execution_count": null,
      "outputs": []
    },
    {
      "cell_type": "code",
      "source": [
        "#큐 10845 파이썬\n",
        "import sys\n",
        "input = sys.stdin.readline\n",
        "\n",
        "#명령의 개수 n을 입력\n",
        "n = int(input())\n",
        "\n",
        "#개의 명령을 입력 받아 리스트 cmd에 저장\n",
        "\n",
        "cmd = [input() for _ in range(n)]\n",
        "\n",
        "#리스트 queue 를 생성\n",
        "queue = []\n",
        "\n",
        "#cmd 리스트에서 명령을 하나씩 읽어들이며 큐의 동작을 수행\n",
        "for c in cmd:\n",
        "  # push 명령을 수행하는 경우\n",
        "  if 'push' in c.split()[0]:\n",
        "    # push 뒤에 입력된 정수를 추출하여 큐의 맨 뒤에 추가\n",
        "    queue.append(c.split()[1])\n",
        "  # pop 명령을 수행하는 경우\n",
        "  elif 'pop' in c:\n",
        "    #큐에서 가장 앞에 있는 정수를 빼고, 그 수를 출력\n",
        "    #큐가 비어있는 경우에는 -1을 출력\n",
        "    print(queue.pop(0)) if queue else print(-1)\n",
        "  #size 명령을 수행하는 경우\n",
        "  elif 'size' in c:\n",
        "    #큐에 들어있는 정수의 개수를 출력\n",
        "    print(len(queue))\n",
        "  # empty 명령을 수행하는 경우\n",
        "  elif 'empty' in c:\n",
        "    #큐가 비어있으면 1, 아니면 0을 출력\n",
        "    print(0) if queue else print(1)\n",
        "  # front 명령을 수행하는 경우\n",
        "  elif 'front' in c:\n",
        "    # 큐의 가장 뒤에 있는 정수를 출력\n",
        "    #큐가 비어있는 경우에는 -1을 출력\n",
        "    print(queue[-1]) if queue else print(-1)"
      ],
      "metadata": {
        "id": "B9KQnpNg9ozU"
      },
      "execution_count": null,
      "outputs": []
    },
    {
      "cell_type": "code",
      "source": [
        "#큐 10845 c++\n",
        "#include <stdio.h>\n",
        "#include <string.h>\n",
        "int Queue[10000];\n",
        "int front=0, rear=0;\n",
        "\n",
        "void push(){\n",
        "    int x;\n",
        "    scanf(\"%d\",&x);\n",
        "    Queue[rear++]=x;\n",
        "}\n",
        "\n",
        "void pop(){\n",
        "    if(rear==front)printf(\"-1|n\");\n",
        "    else printf(\"%d|n\", Queue[front++])\n",
        "}\n",
        "\n",
        "void size(){\n",
        "    printf(\"%d|n\",rear-front);\n",
        "}\n",
        "\n",
        "void empty(){\n",
        "    printf(\"%d|n\", rear-front?0:1)\n",
        "}\n",
        "\n",
        "void fr(int n){\n",
        "    print(\"%d|n\",rear-front?(n?Queue[front]:Queue[rear-1]):-1);\n",
        "}\n",
        "int main(){\n",
        "    int n;\n",
        "    char comm[5];\n",
        "    scanf(\"%d,&n\");\n",
        "\n",
        "    while(n--){\n",
        "        scanf(\"%s\",comm);\n",
        "        if(!strcmp(comm,\"push\")) push();\n",
        "        else if(!strcmp(comm,\"pop\")) pop();\n",
        "        else if(!strcmp(comm,\"size\")) size();\n",
        "        else if(!strcmp(comm,\"empty\")) empty();\n",
        "        else if(!strcmp(comm,\"front\")) fr(1);\n",
        "        else if(!strcmp(comm,\"back\")) fr(0);\n",
        "    }\n",
        "}"
      ],
      "metadata": {
        "id": "hBgkRYwOqn1w"
      },
      "execution_count": null,
      "outputs": []
    },
    {
      "cell_type": "code",
      "source": [
        "#요세퍼스 문제 1158 파이썬\n",
        "import sys\n",
        "\n",
        "def Jesephus(queue, k):\n",
        "  result = list()\n",
        "  num = K - 1\n",
        "  for i in range(len(queue)):\n",
        "    if (len(queue)>num):\n",
        "      result.append(queue.pop(num))\n",
        "      num += k -1\n",
        "    elif (len(queue) <= num):\n",
        "      num = num%len(queue)\n",
        "      result.append(queue.pop(num%len(queue)))\n",
        "      num += K - 1\n",
        "  return result\n",
        "\n",
        "if __name__ == '__main__':\n",
        "  N, K = map(int, sys.stdin.readline().split())\n",
        "  queue = list()\n",
        "  for i in range(1, N + 1):\n",
        "    queue.append(i)\n",
        "  result = Josephus(queue, K)\n",
        "  print('<', end='')\n",
        "  for i in range(N):\n",
        "    if (i != N -1):\n",
        "      print(f'{result[i]}, ', end=\"\")\n",
        "    else:\n",
        "      print(f'{result[i]}', end=\"\")\n",
        "  print('>', end=\"\")"
      ],
      "metadata": {
        "id": "azu9wLIa9pp_"
      },
      "execution_count": null,
      "outputs": []
    },
    {
      "cell_type": "code",
      "source": [
        "#요세푸스문제 1158 c++\n",
        "#include <iostream>\n",
        "#include <queue>\n",
        "using namespace std;\n",
        "\n",
        "int main() {\n",
        "      ios_base::sync_with_stdio(0);\n",
        "      cin.tie(0); cout.tie(0);\n",
        "\n",
        "      //입력\n",
        "      int n,k;\n",
        "      cin >> n>>k;\n",
        "\n",
        "      queue<int>q;\n",
        "      for (int i = 1; i <= n; i++)q.push(i);\n",
        "\n",
        "      cout << \"<\";\n",
        "\n",
        "      //문제 해결\n",
        "      while (q.size() > 1) {\n",
        "        for (int i = 1; i < k; i++) {\n",
        "                int tmp = q.front();\n",
        "                q.pop(); //앞에서 빼서\n",
        "                q.push(tmp); //뒤에 다시 넣는다\n",
        "        }\n",
        "        cout << q.front() << \", \";\n",
        "        q.pop();\n",
        "        }\n",
        "        cout << q.front() << \">|n\";\n",
        "}"
      ],
      "metadata": {
        "id": "xqSFXP5KDU8D"
      },
      "execution_count": null,
      "outputs": []
    },
    {
      "cell_type": "code",
      "source": [
        "#10866 덱 파이썬\n",
        "#push_front일 때\n",
        "#appendleft() 함수를 이용.\n",
        "#pop_front일 때\n",
        "#popleft() 함수를 이용.\n",
        "\n",
        "from collections import deque\n",
        "import sys\n",
        "\n",
        "d = deque()\n",
        "n = int(input())\n",
        "\n",
        "for i in range(n):\n",
        "    command = sys.stdin.readline().split()\n",
        "\n",
        "    if command[0] == \"push_front\":\n",
        "        d.appendleft(command[1])\n",
        "    elif command[0] == \"push_back\":\n",
        "        d.append(command[1])\n",
        "    elif command[0] == \"pop_front\":\n",
        "        if d:\n",
        "            print(d[0])\n",
        "            d.popleft()\n",
        "        else:\n",
        "            print(\"-1\")\n",
        "    elif command[0] == \"pop_back\":\n",
        "        if d:\n",
        "            print(d[len(d) - 1])\n",
        "            d.pop()\n",
        "        else:\n",
        "            print(\"-1\")\n",
        "    elif command[0] == \"size\":\n",
        "        print(len(d))\n",
        "    elif command[0] == \"empty\":\n",
        "        if d:\n",
        "            print(\"0\")\n",
        "        else:\n",
        "            print(\"1\")\n",
        "    elif command[0] == \"front\":\n",
        "        if d:\n",
        "            print(d[0])\n",
        "        else:\n",
        "            print(\"-1\")\n",
        "    elif command[0] == \"back\":\n",
        "        if d:\n",
        "            print(d[len(d) - 1])\n",
        "        else:\n",
        "            print(\"-1\")"
      ],
      "metadata": {
        "id": "rkLNHCbV9rEV"
      },
      "execution_count": null,
      "outputs": []
    },
    {
      "cell_type": "code",
      "source": [
        "#10866 덱 C++\n",
        "#include <iostream>\n",
        "#include <deque>\n",
        "\n",
        "using namespace std;\n",
        "\n",
        "int deque_stl() {\n",
        "\n",
        "    deque<int> deque_int;\n",
        "\n",
        "    int n;\n",
        "    cin >> n;\n",
        "\n",
        "    string command;\n",
        "    int command_num;\n",
        "\n",
        "    for(int i=0;i<n;i++) {\n",
        "        cin >> command;\n",
        "\n",
        "        if (command == \"push_front\") {\n",
        "            cin >> command_num;\n",
        "            deque_int.push_front(command_num);\n",
        "        } else if (command == \"push_back\") {\n",
        "            cin >> command_num;\n",
        "            deque_int.push_back(command_num);\n",
        "        } else if (command == \"size\") {\n",
        "            cout << deque_int.size() << endl;\n",
        "        } else if (command == \"empty\") {\n",
        "            cout << deque_int.empty() << endl;\n",
        "        } else if (deque_int.empty()) {\n",
        "            cout << -1 << endl;\n",
        "        } else if (command == \"pop_front\") {\n",
        "            cout << deque_int.front() << endl;\n",
        "            deque_int.pop_front();\n",
        "        } else if (command == \"pop_back\") {\n",
        "            cout << deque_int.back() << endl;\n",
        "            deque_int.pop_back();\n",
        "        } else if (command == \"front\") {\n",
        "            cout << deque_int.front() << endl;\n",
        "        } else if (command == \"back\") {\n",
        "            cout << deque_int.back() << endl;\n",
        "        }\n",
        "    }\n",
        "\n",
        "    return 0;\n",
        "}"
      ],
      "metadata": {
        "id": "JonrSmvDGg8p"
      },
      "execution_count": null,
      "outputs": []
    },
    {
      "cell_type": "markdown",
      "source": [
        "# 201 - 자료구조 1 (연습)"
      ],
      "metadata": {
        "id": "FVYAHspYVTnR"
      }
    },
    {
      "cell_type": "code",
      "source": [
        "#17413 단어 뒤집기2"
      ],
      "metadata": {
        "id": "CF0EKirT9uzO"
      },
      "execution_count": null,
      "outputs": []
    },
    {
      "cell_type": "code",
      "source": [
        "#1799 쇠막대기"
      ],
      "metadata": {
        "id": "hSxWifJK9wMW"
      },
      "execution_count": null,
      "outputs": []
    },
    {
      "cell_type": "code",
      "source": [
        "#17298 오큰수"
      ],
      "metadata": {
        "id": "MqsKsnO_9xZR"
      },
      "execution_count": null,
      "outputs": []
    },
    {
      "cell_type": "code",
      "source": [
        "#17299 오등큰수"
      ],
      "metadata": {
        "id": "I734r_Hm9yvl"
      },
      "execution_count": null,
      "outputs": []
    },
    {
      "cell_type": "markdown",
      "source": [
        "#203 - 자료구조 1 (참고)"
      ],
      "metadata": {
        "id": "BchVdcz-91xg"
      }
    },
    {
      "cell_type": "code",
      "source": [
        "#1918 후위 표기식"
      ],
      "metadata": {
        "id": "hxE5QcWv95X9"
      },
      "execution_count": null,
      "outputs": []
    },
    {
      "cell_type": "code",
      "source": [
        "#1935 후위 표기식2"
      ],
      "metadata": {
        "id": "ZC-kj9CzQc59"
      },
      "execution_count": null,
      "outputs": []
    },
    {
      "cell_type": "code",
      "source": [
        "#10808 알파벳 개수"
      ],
      "metadata": {
        "id": "yMNLxF8dQdDb"
      },
      "execution_count": null,
      "outputs": []
    },
    {
      "cell_type": "code",
      "source": [
        "#10809 알파벳 찾기"
      ],
      "metadata": {
        "id": "8UOD1bgF2uns"
      },
      "execution_count": null,
      "outputs": []
    },
    {
      "cell_type": "code",
      "source": [
        "#10820 문자열 분석"
      ],
      "metadata": {
        "id": "PBIeqIpO2v5z"
      },
      "execution_count": null,
      "outputs": []
    },
    {
      "cell_type": "code",
      "source": [
        "#2743 단어 길이 재기"
      ],
      "metadata": {
        "id": "3WFA5_pt2xZm"
      },
      "execution_count": null,
      "outputs": []
    },
    {
      "cell_type": "code",
      "source": [
        "#ROT13"
      ],
      "metadata": {
        "id": "XMPQg95l2yqx"
      },
      "execution_count": null,
      "outputs": []
    },
    {
      "cell_type": "code",
      "source": [
        "#네 수"
      ],
      "metadata": {
        "id": "7_c5M4MO2z-_"
      },
      "execution_count": null,
      "outputs": []
    },
    {
      "cell_type": "code",
      "source": [
        "#접미사 배열"
      ],
      "metadata": {
        "id": "9t9PknF_21KO"
      },
      "execution_count": null,
      "outputs": []
    },
    {
      "cell_type": "markdown",
      "source": [
        "# 300- 수학 1"
      ],
      "metadata": {
        "id": "MEb9yOem22qX"
      }
    },
    {
      "cell_type": "code",
      "source": [
        "#나머지"
      ],
      "metadata": {
        "id": "Zx3RC5Bs2-_Y"
      },
      "execution_count": null,
      "outputs": []
    },
    {
      "cell_type": "code",
      "source": [
        "#최대공약수와 최소공배수"
      ],
      "metadata": {
        "id": "TYLYcH_93BD2"
      },
      "execution_count": null,
      "outputs": []
    },
    {
      "cell_type": "code",
      "source": [
        "#최소공배수"
      ],
      "metadata": {
        "id": "RzJr6yNH3CU1"
      },
      "execution_count": null,
      "outputs": []
    },
    {
      "cell_type": "code",
      "source": [
        "#소수찾기"
      ],
      "metadata": {
        "id": "AtB-5vxF3DNK"
      },
      "execution_count": null,
      "outputs": []
    },
    {
      "cell_type": "code",
      "source": [
        "#소수 구하기"
      ],
      "metadata": {
        "id": "wWg2pkHf3D2e"
      },
      "execution_count": null,
      "outputs": []
    },
    {
      "cell_type": "code",
      "source": [
        "#골드바흐의 추측"
      ],
      "metadata": {
        "id": "iNCT8ubQ0AFK"
      },
      "execution_count": null,
      "outputs": []
    },
    {
      "cell_type": "code",
      "source": [
        "#팩토리얼"
      ],
      "metadata": {
        "id": "pH0DkWhO0CQt"
      },
      "execution_count": null,
      "outputs": []
    },
    {
      "cell_type": "code",
      "source": [
        "#팩토리얼 0의 개수"
      ],
      "metadata": {
        "id": "dHrEjKYd0DdX"
      },
      "execution_count": null,
      "outputs": []
    },
    {
      "cell_type": "code",
      "source": [
        "조합 0의 개수"
      ],
      "metadata": {
        "id": "fH34Fxva0Gm7"
      },
      "execution_count": null,
      "outputs": []
    },
    {
      "cell_type": "markdown",
      "source": [
        "## 301 - 수학 1 (연습)"
      ],
      "metadata": {
        "id": "Z4jMZSp10JT_"
      }
    },
    {
      "cell_type": "code",
      "source": [
        "#GCD 합\n",
        "#숨바꼭질 6\n",
        "#2진수 8진수\n",
        "#8진수 2진수\n",
        "#-2진수\n",
        "#골드바흐 파티션"
      ],
      "metadata": {
        "id": "ROfSD7QF0Hz7"
      },
      "execution_count": null,
      "outputs": []
    },
    {
      "cell_type": "markdown",
      "source": [
        "## 303 - 수학 1 (참고)"
      ],
      "metadata": {
        "id": "D9Gdrkkb0UFR"
      }
    },
    {
      "cell_type": "code",
      "source": [
        "#진법 변환2\n",
        "#진법 변환\n",
        "#Base Conversion\n",
        "#소인수분해"
      ],
      "metadata": {
        "id": "PhqW67Nv0XHW"
      },
      "execution_count": null,
      "outputs": []
    },
    {
      "cell_type": "markdown",
      "source": [
        "## 400 - 다이나믹 프로그래밍 1"
      ],
      "metadata": {
        "id": "rNQqMHpA0c3l"
      }
    },
    {
      "cell_type": "code",
      "source": [
        "#1로 만들기\n",
        "#2xn 타일링\n",
        "#2xn 타일링2"
      ],
      "metadata": {
        "id": "9cltaT930gkT"
      },
      "execution_count": null,
      "outputs": []
    },
    {
      "cell_type": "code",
      "source": [
        "1,2,3 더하기"
      ],
      "metadata": {
        "id": "eNUFqgdJ0pep"
      },
      "execution_count": null,
      "outputs": []
    },
    {
      "cell_type": "code",
      "source": [
        "카드 구매하기"
      ],
      "metadata": {
        "id": "2BnTpz1c0qvg"
      },
      "execution_count": null,
      "outputs": []
    },
    {
      "cell_type": "code",
      "source": [
        "카드구매하기2"
      ],
      "metadata": {
        "id": "3F7-PzxS0rU6"
      },
      "execution_count": null,
      "outputs": []
    },
    {
      "cell_type": "code",
      "source": [
        "1, 2, 3 더하기 5"
      ],
      "metadata": {
        "id": "QbG1ShDe0r2U"
      },
      "execution_count": null,
      "outputs": []
    },
    {
      "cell_type": "code",
      "source": [
        "쉬운 계단 수"
      ],
      "metadata": {
        "id": "QQlWINy80sxv"
      },
      "execution_count": null,
      "outputs": []
    },
    {
      "cell_type": "code",
      "source": [
        "이친수"
      ],
      "metadata": {
        "id": "Uco9uPI_0tjv"
      },
      "execution_count": null,
      "outputs": []
    },
    {
      "cell_type": "code",
      "source": [
        "가장 긴 증가하는 부분 수열"
      ],
      "metadata": {
        "id": "83G2KNkO0t12"
      },
      "execution_count": null,
      "outputs": []
    },
    {
      "cell_type": "code",
      "source": [
        "가장 긴 증가하는 부분 수열4"
      ],
      "metadata": {
        "id": "i7mA77Jx0u7J"
      },
      "execution_count": null,
      "outputs": []
    },
    {
      "cell_type": "code",
      "source": [
        "연속합"
      ],
      "metadata": {
        "id": "1qhXvDHT0v7D"
      },
      "execution_count": null,
      "outputs": []
    },
    {
      "cell_type": "code",
      "source": [
        "제곱수의 합"
      ],
      "metadata": {
        "id": "zLlu1inT0wY1"
      },
      "execution_count": null,
      "outputs": []
    },
    {
      "cell_type": "code",
      "source": [
        "합분해"
      ],
      "metadata": {
        "id": "VPBciQot0w0Y"
      },
      "execution_count": null,
      "outputs": []
    },
    {
      "cell_type": "markdown",
      "source": [
        "## 401 - 다이나믹 프로그래밍 1 (연습"
      ],
      "metadata": {
        "id": "PmlPsksp0xlr"
      }
    },
    {
      "cell_type": "code",
      "source": [
        "1, 2, 3 더하기 3"
      ],
      "metadata": {
        "id": "hD_xADAL00xH"
      },
      "execution_count": null,
      "outputs": []
    },
    {
      "cell_type": "code",
      "source": [
        "RGB 거리"
      ],
      "metadata": {
        "id": "5fgo92E-01xW"
      },
      "execution_count": null,
      "outputs": []
    },
    {
      "cell_type": "code",
      "source": [
        "동물원"
      ],
      "metadata": {
        "id": "umoSXxtQ02tP"
      },
      "execution_count": null,
      "outputs": []
    },
    {
      "cell_type": "code",
      "source": [
        "오르막 수"
      ],
      "metadata": {
        "id": "5a1Xq4If03En"
      },
      "execution_count": null,
      "outputs": []
    },
    {
      "cell_type": "code",
      "source": [
        "스티커"
      ],
      "metadata": {
        "id": "QH6XjQ0o03sA"
      },
      "execution_count": null,
      "outputs": []
    },
    {
      "cell_type": "code",
      "source": [
        "포도주 시식"
      ],
      "metadata": {
        "id": "TOKy3Z1a03-S"
      },
      "execution_count": null,
      "outputs": []
    },
    {
      "cell_type": "code",
      "source": [
        "정수 삼각형"
      ],
      "metadata": {
        "id": "P1xeYXfX04kG"
      },
      "execution_count": null,
      "outputs": []
    },
    {
      "cell_type": "code",
      "source": [
        "가장 큰 증가 부분 수열"
      ],
      "metadata": {
        "id": "A_Ah7Xpa05JR"
      },
      "execution_count": null,
      "outputs": []
    },
    {
      "cell_type": "code",
      "source": [
        "가장 긴 감소하는 부분 수열"
      ],
      "metadata": {
        "id": "zC4n1V8n056d"
      },
      "execution_count": null,
      "outputs": []
    },
    {
      "cell_type": "code",
      "source": [
        "가장 긴 바이토닉 부분 수열"
      ],
      "metadata": {
        "id": "1ohWyEp406zb"
      },
      "execution_count": null,
      "outputs": []
    },
    {
      "cell_type": "code",
      "source": [
        "연속합 2"
      ],
      "metadata": {
        "id": "Obx5BSEy07p4"
      },
      "execution_count": null,
      "outputs": []
    },
    {
      "cell_type": "code",
      "source": [
        "타일 채우기"
      ],
      "metadata": {
        "id": "fQ2ExJOn08Ez"
      },
      "execution_count": null,
      "outputs": []
    },
    {
      "cell_type": "markdown",
      "source": [
        "## 402 - 다이나믹 프로그래밍 1 (도전)"
      ],
      "metadata": {
        "id": "WYH5Sjz_09Ba"
      }
    },
    {
      "cell_type": "code",
      "source": [
        "동물원"
      ],
      "metadata": {
        "id": "Py9cUKBu0_cb"
      },
      "execution_count": null,
      "outputs": []
    },
    {
      "cell_type": "code",
      "source": [
        "RGB거리2"
      ],
      "metadata": {
        "id": "5Mx-20Vu1ABW"
      },
      "execution_count": null,
      "outputs": []
    },
    {
      "cell_type": "code",
      "source": [
        "합분해"
      ],
      "metadata": {
        "id": "Y4gQCHyj1BC0"
      },
      "execution_count": null,
      "outputs": []
    }
  ]
}