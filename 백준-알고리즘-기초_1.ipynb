{
  "nbformat": 4,
  "nbformat_minor": 0,
  "metadata": {
    "colab": {
      "private_outputs": true,
      "provenance": [],
      "authorship_tag": "ABX9TyP1JsknnXwbvyUCW9d43dSI",
      "include_colab_link": true
    },
    "kernelspec": {
      "name": "python3",
      "display_name": "Python 3"
    },
    "language_info": {
      "name": "python"
    }
  },
  "cells": [
    {
      "cell_type": "markdown",
      "metadata": {
        "id": "view-in-github",
        "colab_type": "text"
      },
      "source": [
        "<a href=\"https://colab.research.google.com/github/limseo12/Algorithm_study/blob/main/%EB%B0%B1%EC%A4%80-%EC%95%8C%EA%B3%A0%EB%A6%AC%EC%A6%98-%EA%B8%B0%EC%B4%88_1.ipynb\" target=\"_parent\"><img src=\"https://colab.research.google.com/assets/colab-badge.svg\" alt=\"Open In Colab\"/></a>"
      ]
    },
    {
      "cell_type": "markdown",
      "source": [
        "# 200 자료구조1"
      ],
      "metadata": {
        "id": "GiVPOyYnVHG9"
      }
    },
    {
      "cell_type": "code",
      "execution_count": null,
      "metadata": {
        "id": "Vy3ZEUspUzY5"
      },
      "outputs": [],
      "source": [
        "#10828 스택\n",
        "import sys\n",
        "\n",
        "N = "
      ]
    },
    {
      "cell_type": "markdown",
      "source": [
        "# 201 - 자료구조 1 (연습)"
      ],
      "metadata": {
        "id": "FVYAHspYVTnR"
      }
    }
  ]
}