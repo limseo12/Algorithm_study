{
  "nbformat": 4,
  "nbformat_minor": 0,
  "metadata": {
    "colab": {
      "private_outputs": true,
      "provenance": [],
      "authorship_tag": "ABX9TyNGAbulYloBE5L/IxNVGKme",
      "include_colab_link": true
    },
    "kernelspec": {
      "name": "python3",
      "display_name": "Python 3"
    },
    "language_info": {
      "name": "python"
    }
  },
  "cells": [
    {
      "cell_type": "markdown",
      "metadata": {
        "id": "view-in-github",
        "colab_type": "text"
      },
      "source": [
        "<a href=\"https://colab.research.google.com/github/limseo12/Algorithm_study/blob/main/%EB%B0%B1%EC%A4%80-%EC%95%8C%EA%B3%A0%EB%A6%AC%EC%A6%98-%EA%B8%B0%EC%B4%88_1.ipynb\" target=\"_parent\"><img src=\"https://colab.research.google.com/assets/colab-badge.svg\" alt=\"Open In Colab\"/></a>"
      ]
    },
    {
      "cell_type": "markdown",
      "source": [
        "# 200 자료구조1"
      ],
      "metadata": {
        "id": "GiVPOyYnVHG9"
      }
    },
    {
      "cell_type": "code",
      "execution_count": null,
      "metadata": {
        "id": "Vy3ZEUspUzY5"
      },
      "outputs": [],
      "source": [
        "#10828 스택\n",
        "import sys\n",
        "\n",
        "n = int(sys.stdin.readline())   #colab에서는 불가능\n",
        "\n",
        "stack = []\n",
        "for i in range(n):\n",
        "  command = sys.stdin.readline().split()\n",
        "\n",
        "  if command[0] == 'push':\n",
        "    stack.append(command[1])\n",
        "  elif command[0] == 'pop':\n",
        "    if len(stack)==0:\n",
        "      print(-1)\n",
        "    else:\n",
        "      print(stack.pop())\n",
        "  elif command[0] == 'size':\n",
        "    print(len(stack))\n",
        "  elif command[0] == 'empty':\n",
        "    if len(stack) == 0:\n",
        "      print(1)\n",
        "    else:\n",
        "      print(0)\n",
        "  elif command[0] == 'top':\n",
        "    if len(stack) == 0:\n",
        "      print(-1)\n",
        "    else:\n",
        "      print(stack[-1])"
      ]
    },
    {
      "cell_type": "code",
      "source": [
        "#9093 단어 뒤집기\n",
        "N = int(input())\n"
      ],
      "metadata": {
        "id": "cZ0UlaGCfecZ"
      },
      "execution_count": null,
      "outputs": []
    },
    {
      "cell_type": "markdown",
      "source": [
        "# 201 - 자료구조 1 (연습)"
      ],
      "metadata": {
        "id": "FVYAHspYVTnR"
      }
    }
  ]
}