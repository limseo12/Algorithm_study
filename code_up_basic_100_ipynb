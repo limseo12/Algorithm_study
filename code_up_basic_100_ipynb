{
  "nbformat": 4,
  "nbformat_minor": 0,
  "metadata": {
    "colab": {
      "private_outputs": true,
      "provenance": [],
      "authorship_tag": "ABX9TyNMDMNRCk0tMKnTHJLDH+2o",
      "include_colab_link": true
    },
    "kernelspec": {
      "name": "python3",
      "display_name": "Python 3"
    },
    "language_info": {
      "name": "python"
    }
  },
  "cells": [
    {
      "cell_type": "markdown",
      "metadata": {
        "id": "view-in-github",
        "colab_type": "text"
      },
      "source": [
        "<a href=\"https://colab.research.google.com/github/limseo12/code_up_basic_100/blob/main/code_up_basic_100_ipynb\" target=\"_parent\"><img src=\"https://colab.research.google.com/assets/colab-badge.svg\" alt=\"Open In Colab\"/></a>"
      ]
    },
    {
      "cell_type": "code",
      "execution_count": null,
      "metadata": {
        "id": "Acut-LKuvt_q"
      },
      "outputs": [],
      "source": [
        "# #1\n",
        "# print('hello')    #변수에 저장된 값이 없을 때에는 '' 따옴표가 필요하다\n",
        "\n",
        "# #2\n",
        "# print('Hello World')\n",
        "\n",
        "# #3\n",
        "# print(\"Hello\\nworld\")\n",
        "\n",
        "# #4\n",
        "# print(\"'Hello'\")\n",
        "\n",
        "# #5\n",
        "# print('\"Hello World\"')\n",
        "\n",
        "# #6\n",
        "# print()\n",
        "\n",
        "# #7\n",
        "# print(\"\\\"C:\\\\Download\\\\'hello'.py\\\"\")\n",
        "# #8\n",
        "# print(\"print(\\\"Hello\\\\nworld\\\")\")\n",
        "\n",
        "#9\n",
        "# c=input()\n",
        "# print(c)\n",
        "\n",
        "#10\n",
        "# n=input()\n",
        "# n=int(n)\n",
        "# print(n)\n",
        "\n",
        "#11\n",
        "# f = input()\n",
        "# f = float(f)\n",
        "# print(f)\n",
        "\n",
        "#12\n",
        "# a = input()\n",
        "# b = input()\n",
        "# a = int(a)\n",
        "# b = int(b)\n",
        "# print(a)\n",
        "# print(b)\n",
        "\n",
        "#13\n",
        "# a = input()\n",
        "# b = input()\n",
        "# print(a)\n",
        "# print(b)\n",
        "\n",
        "#14\n",
        "# a = input()\n",
        "# a = float(a)\n",
        "# print(a)\n",
        "# print(a)\n",
        "# print(a)\n",
        "\n",
        "#15\n",
        "# a, b = input().split()\n",
        "# a=int(a)\n",
        "# b=int(b)\n",
        "# print(a)\n",
        "# print(b)\n",
        "\n",
        "#16\n",
        "# a, b = input().split()\n",
        "# print(b,a)\n",
        "\n",
        "#17\n",
        "# s = input()\n",
        "# print(s, s, s)\n",
        "\n",
        "#18 (6018)\n",
        "# a, b = input().split(':')\n",
        "# print(a, b, sep=':')\n",
        "\n",
        "#19 (6019)\n",
        "# y, m, d = input().split('.')\n",
        "# print(m, d, y, sep=('-'))\n",
        "\n",
        "#20 (6020)\n",
        "# a, n = input().split('-')\n",
        "# print(a,n, sep='')\n",
        "\n",
        "#21 (6021)\n"
      ]
    }
  ]
}