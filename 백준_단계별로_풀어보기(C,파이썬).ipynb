{
  "nbformat": 4,
  "nbformat_minor": 0,
  "metadata": {
    "colab": {
      "private_outputs": true,
      "provenance": [],
      "authorship_tag": "ABX9TyMrLEOEf87jQS+Dth9cgTzk",
      "include_colab_link": true
    },
    "kernelspec": {
      "name": "python3",
      "display_name": "Python 3"
    },
    "language_info": {
      "name": "python"
    }
  },
  "cells": [
    {
      "cell_type": "markdown",
      "metadata": {
        "id": "view-in-github",
        "colab_type": "text"
      },
      "source": [
        "<a href=\"https://colab.research.google.com/github/limseo12/Algorithm_study/blob/main/%EB%B0%B1%EC%A4%80_%EB%8B%A8%EA%B3%84%EB%B3%84%EB%A1%9C_%ED%92%80%EC%96%B4%EB%B3%B4%EA%B8%B0(C%2C%ED%8C%8C%EC%9D%B4%EC%8D%AC).ipynb\" target=\"_parent\"><img src=\"https://colab.research.google.com/assets/colab-badge.svg\" alt=\"Open In Colab\"/></a>"
      ]
    },
    {
      "cell_type": "markdown",
      "source": [
        "단계1. 입출력과 사칙연산"
      ],
      "metadata": {
        "id": "8lzJKhcVYS5l"
      }
    },
    {
      "cell_type": "code",
      "execution_count": null,
      "metadata": {
        "id": "0twtshXpX-e0"
      },
      "outputs": [],
      "source": [
        "#2557 파이썬"
      ]
    },
    {
      "cell_type": "code",
      "source": [
        "#2557 C"
      ],
      "metadata": {
        "id": "q86bn8dpY7jk"
      },
      "execution_count": null,
      "outputs": []
    },
    {
      "cell_type": "code",
      "source": [],
      "metadata": {
        "id": "tcvutSODY-1C"
      },
      "execution_count": null,
      "outputs": []
    },
    {
      "cell_type": "markdown",
      "source": [
        "단계2. 조건문"
      ],
      "metadata": {
        "id": "1PxtdYU0YZKC"
      }
    },
    {
      "cell_type": "markdown",
      "source": [
        "단계3. 반복문"
      ],
      "metadata": {
        "id": "Gc3gTXC9YbP1"
      }
    },
    {
      "cell_type": "markdown",
      "source": [
        "단계4. 1차원 배열"
      ],
      "metadata": {
        "id": "1u6fPNFCYbfh"
      }
    },
    {
      "cell_type": "markdown",
      "source": [
        "단계5. 문자열"
      ],
      "metadata": {
        "id": "lgyJ48qZYbrE"
      }
    },
    {
      "cell_type": "markdown",
      "source": [
        "단계6. 심화"
      ],
      "metadata": {
        "id": "c7fCvnlvYb0y"
      }
    },
    {
      "cell_type": "markdown",
      "source": [
        "단계7. 2차원 배열"
      ],
      "metadata": {
        "id": "45-qDEk6Yb9K"
      }
    },
    {
      "cell_type": "markdown",
      "source": [
        "단계8. 일반 수학 1"
      ],
      "metadata": {
        "id": "7enL30A-YcFo"
      }
    },
    {
      "cell_type": "markdown",
      "source": [
        "단계9. 약수, 배수와 소수"
      ],
      "metadata": {
        "id": "JkkDiAxEYcNm"
      }
    },
    {
      "cell_type": "markdown",
      "source": [
        "단계10. 기하: 직사각형과 삼각형"
      ],
      "metadata": {
        "id": "nul49sWpYcWB"
      }
    },
    {
      "cell_type": "markdown",
      "source": [
        "단계11. 시간 복잡도"
      ],
      "metadata": {
        "id": "nyFZ6moPYcdl"
      }
    }
  ]
}